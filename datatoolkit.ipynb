{
 "cells": [
  {
   "cell_type": "code",
   "execution_count": 1,
   "id": "b87b9aeb-d0c9-4707-a70b-9e73480931ea",
   "metadata": {},
   "outputs": [],
   "source": [
    "import pandas as pd\n",
    "import numpy as np"
   ]
  },
  {
   "cell_type": "markdown",
   "id": "611a1ae5-0746-4e84-99f7-d60281c4e41e",
   "metadata": {},
   "source": [
    "Demonstrate three different methods for creating identical 2D arrays in NumPy Provide the code for each \n",
    "method and the final output after each method"
   ]
  },
  {
   "cell_type": "code",
   "execution_count": 5,
   "id": "5266a897-f444-41aa-9249-7f7ba74d06da",
   "metadata": {},
   "outputs": [
    {
     "data": {
      "text/plain": [
       "array([[1, 2, 3],\n",
       "       [4, 5, 6]])"
      ]
     },
     "execution_count": 5,
     "metadata": {},
     "output_type": "execute_result"
    }
   ],
   "source": [
    "np.array([[1,2,3],[4,5,6]])"
   ]
  },
  {
   "cell_type": "code",
   "execution_count": 3,
   "id": "2441ba1f-7cb9-4628-9e22-4989bc991961",
   "metadata": {},
   "outputs": [
    {
     "name": "stdout",
     "output_type": "stream",
     "text": [
      "\n",
      "Array created using np.zeros() and then filling values:\n",
      " [[1 2 3]\n",
      " [4 5 6]]\n"
     ]
    }
   ],
   "source": [
    "# Method 2: Using np.zeros() and then filling values\n",
    "array2 = np.zeros((2, 3), dtype=int)\n",
    "array2[0, :] = [1, 2, 3]\n",
    "array2[1, :] = [4, 5, 6]\n",
    "print(\"\\nArray created using np.zeros() and then filling values:\\n\", array2)\n"
   ]
  },
  {
   "cell_type": "code",
   "execution_count": 6,
   "id": "51120130-49e5-4e6d-9b43-f0913aed43cd",
   "metadata": {},
   "outputs": [
    {
     "name": "stdout",
     "output_type": "stream",
     "text": [
      "\n",
      "Array created using np.full() with a predefined pattern:\n",
      " [[1 2 3]\n",
      " [4 5 6]]\n"
     ]
    }
   ],
   "source": [
    "# Method 3: Using np.full() with a predefined pattern\n",
    "array3 = np.full((2, 3), 0)\n",
    "array3[0] = [1, 2, 3]\n",
    "array3[1] = [4, 5, 6]\n",
    "print(\"\\nArray created using np.full() with a predefined pattern:\\n\", array3)\n"
   ]
  },
  {
   "cell_type": "markdown",
   "id": "c6251c95-239d-4ef5-8c0b-5e99fb44836e",
   "metadata": {},
   "source": [
    "[ Using the Numpy function, generate an array of wRR evenly spaced numPers Petween w and wR and \n",
    "Reshape that wD array into a 2D array"
   ]
  },
  {
   "cell_type": "code",
   "execution_count": 8,
   "id": "307971e4-0ab7-4de4-a8a2-2cfee66fc7d5",
   "metadata": {},
   "outputs": [
    {
     "data": {
      "text/plain": [
       "array([[1, 5, 7, 7, 4, 9, 7, 7, 6, 9],\n",
       "       [3, 2, 9, 4, 3, 2, 3, 5, 2, 2],\n",
       "       [7, 1, 6, 9, 8, 3, 8, 1, 6, 7],\n",
       "       [1, 6, 1, 3, 9, 9, 2, 5, 9, 9],\n",
       "       [6, 2, 8, 2, 6, 4, 3, 9, 4, 9],\n",
       "       [8, 1, 9, 5, 9, 7, 1, 5, 5, 3],\n",
       "       [6, 3, 9, 8, 8, 8, 9, 9, 1, 3],\n",
       "       [4, 3, 3, 1, 6, 1, 6, 2, 4, 9],\n",
       "       [4, 3, 5, 6, 4, 7, 1, 7, 3, 8],\n",
       "       [5, 2, 5, 9, 9, 8, 4, 2, 2, 1]])"
      ]
     },
     "execution_count": 8,
     "metadata": {},
     "output_type": "execute_result"
    }
   ],
   "source": [
    "np.random.randint(1,10,100).reshape(10,10)"
   ]
  },
  {
   "cell_type": "markdown",
   "id": "c057f4a3-c86f-430d-b82c-a33a503958de",
   "metadata": {},
   "source": [
    " Explain the following termsg\n",
    "M The difference in npYarray, npYasarray and npYasanyarrayX\n",
    "M The difference between Deep copy and shallow copy"
   ]
  },
  {
   "cell_type": "markdown",
   "id": "42d9aa08-26be-4c6f-8d42-a0fc11551f7c",
   "metadata": {},
   "source": [
    "Let's compare np.array(), np.asarray(), and np.asanyarray() in NumPy. These functions are used to convert input data into NumPy arrays, but they differ in their behavior and use cases.\n",
    "\n",
    "np.array()\n",
    "This function creates a new NumPy array object. It copies the data by default, unless you explicitly set copy=False."
   ]
  },
  {
   "cell_type": "code",
   "execution_count": 9,
   "id": "2c0a0953-8691-4097-bbfb-deba2e126287",
   "metadata": {},
   "outputs": [
    {
     "name": "stdout",
     "output_type": "stream",
     "text": [
      "Array created using np.array(): [1 2 3]\n"
     ]
    }
   ],
   "source": [
    "import numpy as np\n",
    "\n",
    "# Using np.array()\n",
    "data_list = [1, 2, 3]\n",
    "array_from_list = np.array(data_list)\n",
    "\n",
    "print(\"Array created using np.array():\", array_from_list)\n"
   ]
  },
  {
   "cell_type": "markdown",
   "id": "b364bda9-0aa3-4144-9e4e-2841161f3368",
   "metadata": {},
   "source": [
    "np.asarray()\n",
    "This function converts the input to an array, but unlike np.array(), it does not make a copy if the input is already an array (or any subclass of ndarray). It is more efficient when you do not need to copy the data."
   ]
  },
  {
   "cell_type": "code",
   "execution_count": 10,
   "id": "8d19c88a-3eb5-4e67-8ef7-b172645e5f64",
   "metadata": {},
   "outputs": [
    {
     "name": "stdout",
     "output_type": "stream",
     "text": [
      "Array created using np.asarray(): [1 2 3]\n"
     ]
    }
   ],
   "source": [
    "# Using np.asarray()\n",
    "data_list = [1, 2, 3]\n",
    "array_from_list = np.asarray(data_list)\n",
    "\n",
    "print(\"Array created using np.asarray():\", array_from_list)\n"
   ]
  },
  {
   "cell_type": "markdown",
   "id": "adb7abc2-b669-4508-96d4-134a3857ba75",
   "metadata": {},
   "source": [
    "np.asanyarray()\n",
    "This function is similar to np.asarray(), but it passes through subclasses of ndarray. This means if the input data is already a subclass of ndarray (like a masked array), np.asanyarray() will return it as-is without converting it to a base ndarray."
   ]
  },
  {
   "cell_type": "code",
   "execution_count": 11,
   "id": "a4c71a2f-c1dd-4129-b65d-882a2b2d832c",
   "metadata": {},
   "outputs": [
    {
     "name": "stdout",
     "output_type": "stream",
     "text": [
      "Array created using np.asanyarray(): [1 2 3]\n"
     ]
    }
   ],
   "source": [
    "# Using np.asanyarray()\n",
    "data_list = [1, 2, 3]\n",
    "array_from_list = np.asanyarray(data_list)\n",
    "\n",
    "print(\"Array created using np.asanyarray():\", array_from_list)\n"
   ]
  },
  {
   "cell_type": "markdown",
   "id": "1b458aab-fabe-462e-a2d0-fd99dad6071e",
   "metadata": {},
   "source": [
    "The difference between Deep copy and shallow copy"
   ]
  },
  {
   "cell_type": "code",
   "execution_count": 20,
   "id": "006e11cf-3691-4ad1-a5f6-714e352fe178",
   "metadata": {},
   "outputs": [],
   "source": [
    "z1=np.array([1,2,3])"
   ]
  },
  {
   "cell_type": "code",
   "execution_count": 21,
   "id": "89437513-15bb-41ce-a836-222782c1c4e7",
   "metadata": {},
   "outputs": [
    {
     "data": {
      "text/plain": [
       "array([5, 2, 3])"
      ]
     },
     "execution_count": 21,
     "metadata": {},
     "output_type": "execute_result"
    }
   ],
   "source": [
    "z1[0]=5\n",
    "z1"
   ]
  },
  {
   "cell_type": "code",
   "execution_count": 22,
   "id": "10996196-f4a5-4579-954e-4a3ed0738041",
   "metadata": {},
   "outputs": [],
   "source": [
    "z2=z1 #shallow copy"
   ]
  },
  {
   "cell_type": "code",
   "execution_count": 23,
   "id": "af81b2b7-a718-441d-8452-5d3357b37974",
   "metadata": {},
   "outputs": [
    {
     "data": {
      "text/plain": [
       "5"
      ]
     },
     "execution_count": 23,
     "metadata": {},
     "output_type": "execute_result"
    }
   ],
   "source": [
    "z2[0]"
   ]
  },
  {
   "cell_type": "code",
   "execution_count": 25,
   "id": "575ed9ea-007b-494c-b127-2005d2b18acf",
   "metadata": {},
   "outputs": [],
   "source": [
    "from copy import deepcopy"
   ]
  },
  {
   "cell_type": "code",
   "execution_count": 26,
   "id": "defd9059-e26c-414c-9aad-6af04c7ffeb4",
   "metadata": {},
   "outputs": [],
   "source": [
    "z3=deepcopy(z1)"
   ]
  },
  {
   "cell_type": "code",
   "execution_count": 29,
   "id": "37ff0076-0728-4b56-a392-282947df5261",
   "metadata": {},
   "outputs": [],
   "source": [
    "z1[0]=9 #deep copy"
   ]
  },
  {
   "cell_type": "code",
   "execution_count": 30,
   "id": "f9abdae1-3cf5-4468-8ecf-58ad1476c6ca",
   "metadata": {},
   "outputs": [
    {
     "data": {
      "text/plain": [
       "5"
      ]
     },
     "execution_count": 30,
     "metadata": {},
     "output_type": "execute_result"
    }
   ],
   "source": [
    "z3[0]"
   ]
  },
  {
   "cell_type": "markdown",
   "id": "514acae3-9bb2-4986-a354-ae39cf78a73c",
   "metadata": {},
   "source": [
    "O Generate a x array with random floating-point numPers Petween . and 2R 9hen, round each numPer in \n",
    "the array to 2 decimal places"
   ]
  },
  {
   "cell_type": "code",
   "execution_count": 33,
   "id": "376df8dc-b3dc-4283-b4bb-064f0e30e2ac",
   "metadata": {},
   "outputs": [
    {
     "data": {
      "text/plain": [
       "array([[0.15, 0.58, 0.86],\n",
       "       [0.68, 0.32, 0.04],\n",
       "       [0.03, 0.14, 0.5 ]])"
      ]
     },
     "execution_count": 33,
     "metadata": {},
     "output_type": "execute_result"
    }
   ],
   "source": [
    "np.round(np.random.rand(3,3),2)"
   ]
  },
  {
   "cell_type": "markdown",
   "id": "ba3d49c7-04ee-4df4-84b3-c956ef2c2fee",
   "metadata": {},
   "source": [
    "- Create a NumPy array with random integers Petween w and wR of shape (., )) After creating the array \n",
    "perform the following operations:\n",
    "\n",
    " a)Extract all even integers from array.\n",
    "\n",
    " b)Extract all odd integers from array"
   ]
  },
  {
   "cell_type": "code",
   "execution_count": 36,
   "id": "4316ab41-2514-4b0d-ab27-dbd544e932cf",
   "metadata": {},
   "outputs": [],
   "source": [
    "d=np.random.randint(1,10,30).reshape(5,6)"
   ]
  },
  {
   "cell_type": "code",
   "execution_count": 37,
   "id": "49074ebb-febe-4b77-aeff-748dc2b3c176",
   "metadata": {},
   "outputs": [
    {
     "data": {
      "text/plain": [
       "array([[9, 2, 9, 7, 6, 7],\n",
       "       [4, 8, 9, 5, 2, 2],\n",
       "       [6, 3, 8, 4, 3, 5],\n",
       "       [3, 2, 5, 4, 3, 5],\n",
       "       [4, 7, 6, 5, 4, 9]])"
      ]
     },
     "execution_count": 37,
     "metadata": {},
     "output_type": "execute_result"
    }
   ],
   "source": [
    "d"
   ]
  },
  {
   "cell_type": "code",
   "execution_count": 45,
   "id": "f56ce8c2-814c-4649-a441-2cba1d707dba",
   "metadata": {},
   "outputs": [],
   "source": [
    "e=[]\n",
    "o=[]\n",
    "for i in d.flatten():\n",
    "    if i%2==0:\n",
    "        e.append(i)\n",
    "    else:\n",
    "        o.append(i)"
   ]
  },
  {
   "cell_type": "code",
   "execution_count": 46,
   "id": "a4060816-f807-4c6d-b80b-87de08222c91",
   "metadata": {},
   "outputs": [
    {
     "data": {
      "text/plain": [
       "[2, 6, 4, 8, 2, 2, 6, 8, 4, 2, 4, 4, 6, 4]"
      ]
     },
     "execution_count": 46,
     "metadata": {},
     "output_type": "execute_result"
    }
   ],
   "source": [
    "e"
   ]
  },
  {
   "cell_type": "code",
   "execution_count": 47,
   "id": "c2b725da-b825-4d44-8c4c-e1135352ba4e",
   "metadata": {},
   "outputs": [
    {
     "data": {
      "text/plain": [
       "[9, 9, 7, 7, 9, 5, 3, 3, 5, 3, 5, 3, 5, 7, 5, 9]"
      ]
     },
     "execution_count": 47,
     "metadata": {},
     "output_type": "execute_result"
    }
   ],
   "source": [
    "o"
   ]
  },
  {
   "cell_type": "markdown",
   "id": "d9e15e29-aab1-4271-8b7e-975db1e12383",
   "metadata": {},
   "source": [
    "( Create a D NumPy array of shape (, , ) containing random integers Petween w and wR Perform the \n",
    "following operations:\n",
    "\n",
    " a) Find the indices of the maximum values along each depth level (third axis).\n",
    "\n",
    " b) Perform element\u001c\n",
    "wise multiplication of between both arrayX"
   ]
  },
  {
   "cell_type": "code",
   "execution_count": 49,
   "id": "30202749-af87-4c23-831d-5ca00c84faa8",
   "metadata": {},
   "outputs": [],
   "source": [
    "array_3d=np.random.randint(1,10,27).reshape(3,3,3)"
   ]
  },
  {
   "cell_type": "code",
   "execution_count": 50,
   "id": "5e31c142-d9c3-417e-92fd-4a187166fbc4",
   "metadata": {},
   "outputs": [
    {
     "data": {
      "text/plain": [
       "array([[[9, 3, 4],\n",
       "        [1, 5, 1],\n",
       "        [8, 5, 3]],\n",
       "\n",
       "       [[2, 2, 7],\n",
       "        [5, 8, 3],\n",
       "        [6, 2, 1]],\n",
       "\n",
       "       [[6, 5, 4],\n",
       "        [6, 3, 9],\n",
       "        [8, 1, 4]]])"
      ]
     },
     "execution_count": 50,
     "metadata": {},
     "output_type": "execute_result"
    }
   ],
   "source": [
    "array_3d"
   ]
  },
  {
   "cell_type": "code",
   "execution_count": 51,
   "id": "f2d7e536-2e0b-477c-8001-27cf08d22102",
   "metadata": {},
   "outputs": [
    {
     "name": "stdout",
     "output_type": "stream",
     "text": [
      "\n",
      "Indices of maximum values along each depth level:\n",
      " [[0 1 0]\n",
      " [2 1 0]\n",
      " [0 2 0]]\n"
     ]
    }
   ],
   "source": [
    "# Find the indices of the maximum values along each depth level (third axis)\n",
    "max_indices = np.argmax(array_3d, axis=2)\n",
    "print(\"\\nIndices of maximum values along each depth level:\\n\", max_indices)\n"
   ]
  },
  {
   "cell_type": "code",
   "execution_count": 52,
   "id": "17f45c13-b555-4c82-8e04-8d9463855075",
   "metadata": {},
   "outputs": [
    {
     "name": "stdout",
     "output_type": "stream",
     "text": [
      "\n",
      "Second 3D array:\n",
      " [[[ 41  49  29]\n",
      "  [100  35  17]\n",
      "  [ 55   4  84]]\n",
      "\n",
      " [[ 70  60  10]\n",
      "  [ 22  61  96]\n",
      "  [ 22  76  58]]\n",
      "\n",
      " [[ 83  15  11]\n",
      "  [ 72  86  49]\n",
      "  [ 64  30  76]]]\n",
      "\n",
      "Element-wise multiplication result:\n",
      " [[[369 147 116]\n",
      "  [100 175  17]\n",
      "  [440  20 252]]\n",
      "\n",
      " [[140 120  70]\n",
      "  [110 488 288]\n",
      "  [132 152  58]]\n",
      "\n",
      " [[498  75  44]\n",
      "  [432 258 441]\n",
      "  [512  30 304]]]\n"
     ]
    }
   ],
   "source": [
    "# Create another 3D NumPy array of the same shape with random integers between 0 and 100\n",
    "array_3d_2 = np.random.randint(0, 101, (3, 3, 3))\n",
    "print(\"\\nSecond 3D array:\\n\", array_3d_2)\n",
    "\n",
    "# Perform element-wise multiplication\n",
    "result_array = np.multiply(array_3d, array_3d_2)\n",
    "print(\"\\nElement-wise multiplication result:\\n\", result_array)\n"
   ]
  },
  {
   "cell_type": "markdown",
   "id": "564ac414-df35-42ce-b63a-4d908b01b8e1",
   "metadata": {},
   "source": [
    "\u001b Clean and transform the 'Phone' column in the sample dataset to remove non-numeric characters and \n",
    "convert it to a numeric data type Also display the taPle attriPutes and data types of each column"
   ]
  },
  {
   "cell_type": "code",
   "execution_count": 53,
   "id": "e42d6323-d160-4e7e-8ae8-0d7dc6bc013c",
   "metadata": {},
   "outputs": [],
   "source": [
    "df=pd.read_csv(\"People Data.csv\") "
   ]
  },
  {
   "cell_type": "code",
   "execution_count": 54,
   "id": "70ae84ee-7499-48b0-9ef1-b3750f63684f",
   "metadata": {},
   "outputs": [
    {
     "data": {
      "text/html": [
       "<div>\n",
       "<style scoped>\n",
       "    .dataframe tbody tr th:only-of-type {\n",
       "        vertical-align: middle;\n",
       "    }\n",
       "\n",
       "    .dataframe tbody tr th {\n",
       "        vertical-align: top;\n",
       "    }\n",
       "\n",
       "    .dataframe thead th {\n",
       "        text-align: right;\n",
       "    }\n",
       "</style>\n",
       "<table border=\"1\" class=\"dataframe\">\n",
       "  <thead>\n",
       "    <tr style=\"text-align: right;\">\n",
       "      <th></th>\n",
       "      <th>Index</th>\n",
       "      <th>User Id</th>\n",
       "      <th>First Name</th>\n",
       "      <th>Last Name</th>\n",
       "      <th>Gender</th>\n",
       "      <th>Email</th>\n",
       "      <th>Phone</th>\n",
       "      <th>Date of birth</th>\n",
       "      <th>Job Title</th>\n",
       "      <th>Salary</th>\n",
       "    </tr>\n",
       "  </thead>\n",
       "  <tbody>\n",
       "    <tr>\n",
       "      <th>0</th>\n",
       "      <td>1</td>\n",
       "      <td>8717bbf45cCDbEe</td>\n",
       "      <td>Shelia</td>\n",
       "      <td>Mahoney</td>\n",
       "      <td>Male</td>\n",
       "      <td>pwarner@example.org</td>\n",
       "      <td>857.139.8239</td>\n",
       "      <td>27-01-2014</td>\n",
       "      <td>Probation officer</td>\n",
       "      <td>90000</td>\n",
       "    </tr>\n",
       "    <tr>\n",
       "      <th>1</th>\n",
       "      <td>2</td>\n",
       "      <td>3d5AD30A4cD38ed</td>\n",
       "      <td>Jo</td>\n",
       "      <td>Rivers</td>\n",
       "      <td>Female</td>\n",
       "      <td>fergusonkatherine@example.net</td>\n",
       "      <td>NaN</td>\n",
       "      <td>26-07-1931</td>\n",
       "      <td>Dancer</td>\n",
       "      <td>80000</td>\n",
       "    </tr>\n",
       "    <tr>\n",
       "      <th>2</th>\n",
       "      <td>3</td>\n",
       "      <td>810Ce0F276Badec</td>\n",
       "      <td>Sheryl</td>\n",
       "      <td>Lowery</td>\n",
       "      <td>Female</td>\n",
       "      <td>fhoward@example.org</td>\n",
       "      <td>(599)782-0605</td>\n",
       "      <td>25-11-2013</td>\n",
       "      <td>Copy</td>\n",
       "      <td>50000</td>\n",
       "    </tr>\n",
       "    <tr>\n",
       "      <th>3</th>\n",
       "      <td>4</td>\n",
       "      <td>BF2a889C00f0cE1</td>\n",
       "      <td>Whitney</td>\n",
       "      <td>Hooper</td>\n",
       "      <td>Male</td>\n",
       "      <td>zjohnston@example.com</td>\n",
       "      <td>NaN</td>\n",
       "      <td>17-11-2012</td>\n",
       "      <td>Counselling psychologist</td>\n",
       "      <td>65000</td>\n",
       "    </tr>\n",
       "    <tr>\n",
       "      <th>4</th>\n",
       "      <td>5</td>\n",
       "      <td>9afFEafAe1CBBB9</td>\n",
       "      <td>Lindsey</td>\n",
       "      <td>Rice</td>\n",
       "      <td>Female</td>\n",
       "      <td>elin@example.net</td>\n",
       "      <td>(390)417-1635x3010</td>\n",
       "      <td>15-04-1923</td>\n",
       "      <td>Biomedical engineer</td>\n",
       "      <td>100000</td>\n",
       "    </tr>\n",
       "  </tbody>\n",
       "</table>\n",
       "</div>"
      ],
      "text/plain": [
       "   Index          User Id First Name Last Name  Gender  \\\n",
       "0      1  8717bbf45cCDbEe     Shelia   Mahoney    Male   \n",
       "1      2  3d5AD30A4cD38ed         Jo    Rivers  Female   \n",
       "2      3  810Ce0F276Badec     Sheryl    Lowery  Female   \n",
       "3      4  BF2a889C00f0cE1    Whitney    Hooper    Male   \n",
       "4      5  9afFEafAe1CBBB9    Lindsey      Rice  Female   \n",
       "\n",
       "                           Email               Phone Date of birth  \\\n",
       "0            pwarner@example.org        857.139.8239    27-01-2014   \n",
       "1  fergusonkatherine@example.net                 NaN    26-07-1931   \n",
       "2            fhoward@example.org       (599)782-0605    25-11-2013   \n",
       "3          zjohnston@example.com                 NaN    17-11-2012   \n",
       "4               elin@example.net  (390)417-1635x3010    15-04-1923   \n",
       "\n",
       "                  Job Title  Salary  \n",
       "0         Probation officer   90000  \n",
       "1                    Dancer   80000  \n",
       "2                      Copy   50000  \n",
       "3  Counselling psychologist   65000  \n",
       "4       Biomedical engineer  100000  "
      ]
     },
     "execution_count": 54,
     "metadata": {},
     "output_type": "execute_result"
    }
   ],
   "source": [
    "df.head()"
   ]
  },
  {
   "cell_type": "code",
   "execution_count": 68,
   "id": "d2e7dd22-2609-4ed5-8f89-11d23895efd3",
   "metadata": {},
   "outputs": [],
   "source": [
    "import re\n",
    "\n",
    "def remove_non_numeric(str1):\n",
    "    z=re.sub(r'[^0-9]', \"\", str1)\n",
    "    return z\n",
    "df=df.dropna(subset=['Phone'],axis=0,ignore_index=True)\n",
    "df['Phone']=df['Phone'].apply(remove_non_numeric)\n",
    "    "
   ]
  },
  {
   "cell_type": "code",
   "execution_count": 71,
   "id": "4b0e8da0-373d-4f72-b084-0025b133101e",
   "metadata": {},
   "outputs": [
    {
     "data": {
      "text/plain": [
       "Index             int64\n",
       "User Id          object\n",
       "First Name       object\n",
       "Last Name        object\n",
       "Gender           object\n",
       "Email            object\n",
       "Phone            object\n",
       "Date of birth    object\n",
       "Job Title        object\n",
       "Salary            int64\n",
       "dtype: object"
      ]
     },
     "execution_count": 71,
     "metadata": {},
     "output_type": "execute_result"
    }
   ],
   "source": [
    "df.dtypes"
   ]
  },
  {
   "cell_type": "markdown",
   "id": "27ea37aa-d542-49c3-872c-0e9fbf6c4b94",
   "metadata": {},
   "source": [
    "^ Perform the following tas\\s using people dataset:\n",
    "\n",
    " a) Read the 'dataYcsv' file using pandas, skipping the first 50 rows.\n",
    "\n",
    " b) Only read the columns: 'Last Name', ‘Gender’,’Email’,‘Phone’ and ‘Salary’ from the file.\n",
    "\n",
    " c) Display the first 10 rows of the filtered dataset.\n",
    "\n",
    " d) Extract the ‘Salary’' column as a Series and display its last 5 valuesX"
   ]
  },
  {
   "cell_type": "code",
   "execution_count": 76,
   "id": "44f06564-7624-4eff-88fb-f2ddfa92428d",
   "metadata": {},
   "outputs": [],
   "source": [
    "df=pd.read_csv(\"People Data.csv\",skiprows=50)"
   ]
  },
  {
   "cell_type": "code",
   "execution_count": 78,
   "id": "a483c76f-fd4b-4a6e-82ec-5e2f4b3d3555",
   "metadata": {},
   "outputs": [],
   "source": [
    "df=pd.read_csv('People Data.csv')"
   ]
  },
  {
   "cell_type": "code",
   "execution_count": 79,
   "id": "66d7dfde-ab78-4d33-b75b-98eecf4baf43",
   "metadata": {},
   "outputs": [
    {
     "data": {
      "text/html": [
       "<div>\n",
       "<style scoped>\n",
       "    .dataframe tbody tr th:only-of-type {\n",
       "        vertical-align: middle;\n",
       "    }\n",
       "\n",
       "    .dataframe tbody tr th {\n",
       "        vertical-align: top;\n",
       "    }\n",
       "\n",
       "    .dataframe thead th {\n",
       "        text-align: right;\n",
       "    }\n",
       "</style>\n",
       "<table border=\"1\" class=\"dataframe\">\n",
       "  <thead>\n",
       "    <tr style=\"text-align: right;\">\n",
       "      <th></th>\n",
       "      <th>Index</th>\n",
       "      <th>User Id</th>\n",
       "      <th>First Name</th>\n",
       "      <th>Last Name</th>\n",
       "      <th>Gender</th>\n",
       "      <th>Email</th>\n",
       "      <th>Phone</th>\n",
       "      <th>Date of birth</th>\n",
       "      <th>Job Title</th>\n",
       "      <th>Salary</th>\n",
       "    </tr>\n",
       "  </thead>\n",
       "  <tbody>\n",
       "    <tr>\n",
       "      <th>0</th>\n",
       "      <td>1</td>\n",
       "      <td>8717bbf45cCDbEe</td>\n",
       "      <td>Shelia</td>\n",
       "      <td>Mahoney</td>\n",
       "      <td>Male</td>\n",
       "      <td>pwarner@example.org</td>\n",
       "      <td>857.139.8239</td>\n",
       "      <td>27-01-2014</td>\n",
       "      <td>Probation officer</td>\n",
       "      <td>90000</td>\n",
       "    </tr>\n",
       "    <tr>\n",
       "      <th>1</th>\n",
       "      <td>2</td>\n",
       "      <td>3d5AD30A4cD38ed</td>\n",
       "      <td>Jo</td>\n",
       "      <td>Rivers</td>\n",
       "      <td>Female</td>\n",
       "      <td>fergusonkatherine@example.net</td>\n",
       "      <td>NaN</td>\n",
       "      <td>26-07-1931</td>\n",
       "      <td>Dancer</td>\n",
       "      <td>80000</td>\n",
       "    </tr>\n",
       "    <tr>\n",
       "      <th>2</th>\n",
       "      <td>3</td>\n",
       "      <td>810Ce0F276Badec</td>\n",
       "      <td>Sheryl</td>\n",
       "      <td>Lowery</td>\n",
       "      <td>Female</td>\n",
       "      <td>fhoward@example.org</td>\n",
       "      <td>(599)782-0605</td>\n",
       "      <td>25-11-2013</td>\n",
       "      <td>Copy</td>\n",
       "      <td>50000</td>\n",
       "    </tr>\n",
       "    <tr>\n",
       "      <th>3</th>\n",
       "      <td>4</td>\n",
       "      <td>BF2a889C00f0cE1</td>\n",
       "      <td>Whitney</td>\n",
       "      <td>Hooper</td>\n",
       "      <td>Male</td>\n",
       "      <td>zjohnston@example.com</td>\n",
       "      <td>NaN</td>\n",
       "      <td>17-11-2012</td>\n",
       "      <td>Counselling psychologist</td>\n",
       "      <td>65000</td>\n",
       "    </tr>\n",
       "    <tr>\n",
       "      <th>4</th>\n",
       "      <td>5</td>\n",
       "      <td>9afFEafAe1CBBB9</td>\n",
       "      <td>Lindsey</td>\n",
       "      <td>Rice</td>\n",
       "      <td>Female</td>\n",
       "      <td>elin@example.net</td>\n",
       "      <td>(390)417-1635x3010</td>\n",
       "      <td>15-04-1923</td>\n",
       "      <td>Biomedical engineer</td>\n",
       "      <td>100000</td>\n",
       "    </tr>\n",
       "  </tbody>\n",
       "</table>\n",
       "</div>"
      ],
      "text/plain": [
       "   Index          User Id First Name Last Name  Gender  \\\n",
       "0      1  8717bbf45cCDbEe     Shelia   Mahoney    Male   \n",
       "1      2  3d5AD30A4cD38ed         Jo    Rivers  Female   \n",
       "2      3  810Ce0F276Badec     Sheryl    Lowery  Female   \n",
       "3      4  BF2a889C00f0cE1    Whitney    Hooper    Male   \n",
       "4      5  9afFEafAe1CBBB9    Lindsey      Rice  Female   \n",
       "\n",
       "                           Email               Phone Date of birth  \\\n",
       "0            pwarner@example.org        857.139.8239    27-01-2014   \n",
       "1  fergusonkatherine@example.net                 NaN    26-07-1931   \n",
       "2            fhoward@example.org       (599)782-0605    25-11-2013   \n",
       "3          zjohnston@example.com                 NaN    17-11-2012   \n",
       "4               elin@example.net  (390)417-1635x3010    15-04-1923   \n",
       "\n",
       "                  Job Title  Salary  \n",
       "0         Probation officer   90000  \n",
       "1                    Dancer   80000  \n",
       "2                      Copy   50000  \n",
       "3  Counselling psychologist   65000  \n",
       "4       Biomedical engineer  100000  "
      ]
     },
     "execution_count": 79,
     "metadata": {},
     "output_type": "execute_result"
    }
   ],
   "source": [
    "df.head()"
   ]
  },
  {
   "cell_type": "code",
   "execution_count": 82,
   "id": "95b1ba46-fe7f-441d-a29b-107018caad56",
   "metadata": {},
   "outputs": [],
   "source": [
    "df=df[['Last Name','Gender','Email','Phone','Salary' ]][:10]"
   ]
  },
  {
   "cell_type": "code",
   "execution_count": 83,
   "id": "3cca41ec-17b3-4bb4-a93c-913a70261b98",
   "metadata": {},
   "outputs": [
    {
     "data": {
      "text/html": [
       "<div>\n",
       "<style scoped>\n",
       "    .dataframe tbody tr th:only-of-type {\n",
       "        vertical-align: middle;\n",
       "    }\n",
       "\n",
       "    .dataframe tbody tr th {\n",
       "        vertical-align: top;\n",
       "    }\n",
       "\n",
       "    .dataframe thead th {\n",
       "        text-align: right;\n",
       "    }\n",
       "</style>\n",
       "<table border=\"1\" class=\"dataframe\">\n",
       "  <thead>\n",
       "    <tr style=\"text-align: right;\">\n",
       "      <th></th>\n",
       "      <th>Last Name</th>\n",
       "      <th>Gender</th>\n",
       "      <th>Email</th>\n",
       "      <th>Phone</th>\n",
       "      <th>Salary</th>\n",
       "    </tr>\n",
       "  </thead>\n",
       "  <tbody>\n",
       "    <tr>\n",
       "      <th>0</th>\n",
       "      <td>Mahoney</td>\n",
       "      <td>Male</td>\n",
       "      <td>pwarner@example.org</td>\n",
       "      <td>857.139.8239</td>\n",
       "      <td>90000</td>\n",
       "    </tr>\n",
       "    <tr>\n",
       "      <th>1</th>\n",
       "      <td>Rivers</td>\n",
       "      <td>Female</td>\n",
       "      <td>fergusonkatherine@example.net</td>\n",
       "      <td>NaN</td>\n",
       "      <td>80000</td>\n",
       "    </tr>\n",
       "    <tr>\n",
       "      <th>2</th>\n",
       "      <td>Lowery</td>\n",
       "      <td>Female</td>\n",
       "      <td>fhoward@example.org</td>\n",
       "      <td>(599)782-0605</td>\n",
       "      <td>50000</td>\n",
       "    </tr>\n",
       "    <tr>\n",
       "      <th>3</th>\n",
       "      <td>Hooper</td>\n",
       "      <td>Male</td>\n",
       "      <td>zjohnston@example.com</td>\n",
       "      <td>NaN</td>\n",
       "      <td>65000</td>\n",
       "    </tr>\n",
       "    <tr>\n",
       "      <th>4</th>\n",
       "      <td>Rice</td>\n",
       "      <td>Female</td>\n",
       "      <td>elin@example.net</td>\n",
       "      <td>(390)417-1635x3010</td>\n",
       "      <td>100000</td>\n",
       "    </tr>\n",
       "    <tr>\n",
       "      <th>5</th>\n",
       "      <td>Caldwell</td>\n",
       "      <td>Male</td>\n",
       "      <td>kaitlin13@example.net</td>\n",
       "      <td>8537800927</td>\n",
       "      <td>50000</td>\n",
       "    </tr>\n",
       "    <tr>\n",
       "      <th>6</th>\n",
       "      <td>Hoffman</td>\n",
       "      <td>Male</td>\n",
       "      <td>jeffharvey@example.com</td>\n",
       "      <td>093.655.7480x7895</td>\n",
       "      <td>60000</td>\n",
       "    </tr>\n",
       "    <tr>\n",
       "      <th>7</th>\n",
       "      <td>Andersen</td>\n",
       "      <td>Male</td>\n",
       "      <td>alicia33@example.org</td>\n",
       "      <td>4709522945</td>\n",
       "      <td>65000</td>\n",
       "    </tr>\n",
       "    <tr>\n",
       "      <th>8</th>\n",
       "      <td>Mays</td>\n",
       "      <td>Male</td>\n",
       "      <td>jake50@example.com</td>\n",
       "      <td>013.820.4758</td>\n",
       "      <td>50000</td>\n",
       "    </tr>\n",
       "    <tr>\n",
       "      <th>9</th>\n",
       "      <td>Mitchell</td>\n",
       "      <td>Male</td>\n",
       "      <td>lanechristina@example.net</td>\n",
       "      <td>(560)903-5068x4985</td>\n",
       "      <td>50000</td>\n",
       "    </tr>\n",
       "  </tbody>\n",
       "</table>\n",
       "</div>"
      ],
      "text/plain": [
       "  Last Name  Gender                          Email               Phone  Salary\n",
       "0   Mahoney    Male            pwarner@example.org        857.139.8239   90000\n",
       "1    Rivers  Female  fergusonkatherine@example.net                 NaN   80000\n",
       "2    Lowery  Female            fhoward@example.org       (599)782-0605   50000\n",
       "3    Hooper    Male          zjohnston@example.com                 NaN   65000\n",
       "4      Rice  Female               elin@example.net  (390)417-1635x3010  100000\n",
       "5  Caldwell    Male          kaitlin13@example.net          8537800927   50000\n",
       "6   Hoffman    Male         jeffharvey@example.com   093.655.7480x7895   60000\n",
       "7  Andersen    Male           alicia33@example.org          4709522945   65000\n",
       "8      Mays    Male             jake50@example.com        013.820.4758   50000\n",
       "9  Mitchell    Male      lanechristina@example.net  (560)903-5068x4985   50000"
      ]
     },
     "execution_count": 83,
     "metadata": {},
     "output_type": "execute_result"
    }
   ],
   "source": [
    "df"
   ]
  },
  {
   "cell_type": "code",
   "execution_count": 85,
   "id": "6af5228c-4e9e-48c2-917e-3b42de723339",
   "metadata": {},
   "outputs": [
    {
     "data": {
      "text/plain": [
       "0     90000\n",
       "1     80000\n",
       "2     50000\n",
       "3     65000\n",
       "4    100000\n",
       "Name: Salary, dtype: int64"
      ]
     },
     "execution_count": 85,
     "metadata": {},
     "output_type": "execute_result"
    }
   ],
   "source": [
    "df['Salary'][:-5]"
   ]
  },
  {
   "cell_type": "markdown",
   "id": "0bfe6a36-c0f9-424c-b5b3-bdc7618529c3",
   "metadata": {},
   "source": [
    "a Filter and select rows from the People_Dataset, where the “Last Name' column contains the name 'Du\\e',  \n",
    "'Gender' column contains the word Female and ‘Nalary’ should Pe less than _.RRR"
   ]
  },
  {
   "cell_type": "code",
   "execution_count": 99,
   "id": "81f7c92d-62c2-4959-8ac9-5e1fe4613bb1",
   "metadata": {},
   "outputs": [],
   "source": [
    "df=pd.read_csv(\"People Data.csv\")"
   ]
  },
  {
   "cell_type": "code",
   "execution_count": 100,
   "id": "96c60446-4b44-4e12-866d-0bac480079a0",
   "metadata": {},
   "outputs": [
    {
     "data": {
      "text/html": [
       "<div>\n",
       "<style scoped>\n",
       "    .dataframe tbody tr th:only-of-type {\n",
       "        vertical-align: middle;\n",
       "    }\n",
       "\n",
       "    .dataframe tbody tr th {\n",
       "        vertical-align: top;\n",
       "    }\n",
       "\n",
       "    .dataframe thead th {\n",
       "        text-align: right;\n",
       "    }\n",
       "</style>\n",
       "<table border=\"1\" class=\"dataframe\">\n",
       "  <thead>\n",
       "    <tr style=\"text-align: right;\">\n",
       "      <th></th>\n",
       "      <th>Index</th>\n",
       "      <th>User Id</th>\n",
       "      <th>First Name</th>\n",
       "      <th>Last Name</th>\n",
       "      <th>Gender</th>\n",
       "      <th>Email</th>\n",
       "      <th>Phone</th>\n",
       "      <th>Date of birth</th>\n",
       "      <th>Job Title</th>\n",
       "      <th>Salary</th>\n",
       "    </tr>\n",
       "  </thead>\n",
       "  <tbody>\n",
       "    <tr>\n",
       "      <th>0</th>\n",
       "      <td>1</td>\n",
       "      <td>8717bbf45cCDbEe</td>\n",
       "      <td>Shelia</td>\n",
       "      <td>Mahoney</td>\n",
       "      <td>Male</td>\n",
       "      <td>pwarner@example.org</td>\n",
       "      <td>857.139.8239</td>\n",
       "      <td>27-01-2014</td>\n",
       "      <td>Probation officer</td>\n",
       "      <td>90000</td>\n",
       "    </tr>\n",
       "    <tr>\n",
       "      <th>1</th>\n",
       "      <td>2</td>\n",
       "      <td>3d5AD30A4cD38ed</td>\n",
       "      <td>Jo</td>\n",
       "      <td>Rivers</td>\n",
       "      <td>Female</td>\n",
       "      <td>fergusonkatherine@example.net</td>\n",
       "      <td>NaN</td>\n",
       "      <td>26-07-1931</td>\n",
       "      <td>Dancer</td>\n",
       "      <td>80000</td>\n",
       "    </tr>\n",
       "    <tr>\n",
       "      <th>2</th>\n",
       "      <td>3</td>\n",
       "      <td>810Ce0F276Badec</td>\n",
       "      <td>Sheryl</td>\n",
       "      <td>Lowery</td>\n",
       "      <td>Female</td>\n",
       "      <td>fhoward@example.org</td>\n",
       "      <td>(599)782-0605</td>\n",
       "      <td>25-11-2013</td>\n",
       "      <td>Copy</td>\n",
       "      <td>50000</td>\n",
       "    </tr>\n",
       "    <tr>\n",
       "      <th>3</th>\n",
       "      <td>4</td>\n",
       "      <td>BF2a889C00f0cE1</td>\n",
       "      <td>Whitney</td>\n",
       "      <td>Hooper</td>\n",
       "      <td>Male</td>\n",
       "      <td>zjohnston@example.com</td>\n",
       "      <td>NaN</td>\n",
       "      <td>17-11-2012</td>\n",
       "      <td>Counselling psychologist</td>\n",
       "      <td>65000</td>\n",
       "    </tr>\n",
       "    <tr>\n",
       "      <th>4</th>\n",
       "      <td>5</td>\n",
       "      <td>9afFEafAe1CBBB9</td>\n",
       "      <td>Lindsey</td>\n",
       "      <td>Rice</td>\n",
       "      <td>Female</td>\n",
       "      <td>elin@example.net</td>\n",
       "      <td>(390)417-1635x3010</td>\n",
       "      <td>15-04-1923</td>\n",
       "      <td>Biomedical engineer</td>\n",
       "      <td>100000</td>\n",
       "    </tr>\n",
       "  </tbody>\n",
       "</table>\n",
       "</div>"
      ],
      "text/plain": [
       "   Index          User Id First Name Last Name  Gender  \\\n",
       "0      1  8717bbf45cCDbEe     Shelia   Mahoney    Male   \n",
       "1      2  3d5AD30A4cD38ed         Jo    Rivers  Female   \n",
       "2      3  810Ce0F276Badec     Sheryl    Lowery  Female   \n",
       "3      4  BF2a889C00f0cE1    Whitney    Hooper    Male   \n",
       "4      5  9afFEafAe1CBBB9    Lindsey      Rice  Female   \n",
       "\n",
       "                           Email               Phone Date of birth  \\\n",
       "0            pwarner@example.org        857.139.8239    27-01-2014   \n",
       "1  fergusonkatherine@example.net                 NaN    26-07-1931   \n",
       "2            fhoward@example.org       (599)782-0605    25-11-2013   \n",
       "3          zjohnston@example.com                 NaN    17-11-2012   \n",
       "4               elin@example.net  (390)417-1635x3010    15-04-1923   \n",
       "\n",
       "                  Job Title  Salary  \n",
       "0         Probation officer   90000  \n",
       "1                    Dancer   80000  \n",
       "2                      Copy   50000  \n",
       "3  Counselling psychologist   65000  \n",
       "4       Biomedical engineer  100000  "
      ]
     },
     "execution_count": 100,
     "metadata": {},
     "output_type": "execute_result"
    }
   ],
   "source": [
    "df.head()"
   ]
  },
  {
   "cell_type": "code",
   "execution_count": 101,
   "id": "717e4914-a9ff-479f-921e-6f5c767ce60c",
   "metadata": {},
   "outputs": [],
   "source": [
    "df_filtered=df[(df['Last Name'] == 'Duke') & (df['Gender'] == 'Female') & (df['Salary'] < 85000)]"
   ]
  },
  {
   "cell_type": "code",
   "execution_count": 102,
   "id": "f62c73f4-982d-4b39-a564-3f606f5fabe5",
   "metadata": {},
   "outputs": [
    {
     "data": {
      "text/html": [
       "<div>\n",
       "<style scoped>\n",
       "    .dataframe tbody tr th:only-of-type {\n",
       "        vertical-align: middle;\n",
       "    }\n",
       "\n",
       "    .dataframe tbody tr th {\n",
       "        vertical-align: top;\n",
       "    }\n",
       "\n",
       "    .dataframe thead th {\n",
       "        text-align: right;\n",
       "    }\n",
       "</style>\n",
       "<table border=\"1\" class=\"dataframe\">\n",
       "  <thead>\n",
       "    <tr style=\"text-align: right;\">\n",
       "      <th></th>\n",
       "      <th>Index</th>\n",
       "      <th>User Id</th>\n",
       "      <th>First Name</th>\n",
       "      <th>Last Name</th>\n",
       "      <th>Gender</th>\n",
       "      <th>Email</th>\n",
       "      <th>Phone</th>\n",
       "      <th>Date of birth</th>\n",
       "      <th>Job Title</th>\n",
       "      <th>Salary</th>\n",
       "    </tr>\n",
       "  </thead>\n",
       "  <tbody>\n",
       "    <tr>\n",
       "      <th>45</th>\n",
       "      <td>46</td>\n",
       "      <td>99A502C175C4EBd</td>\n",
       "      <td>Olivia</td>\n",
       "      <td>Duke</td>\n",
       "      <td>Female</td>\n",
       "      <td>diana26@example.net</td>\n",
       "      <td>001-366-475-8607x04350</td>\n",
       "      <td>13-10-1934</td>\n",
       "      <td>Dentist</td>\n",
       "      <td>60000</td>\n",
       "    </tr>\n",
       "    <tr>\n",
       "      <th>210</th>\n",
       "      <td>211</td>\n",
       "      <td>DF17975CC0a0373</td>\n",
       "      <td>Katrina</td>\n",
       "      <td>Duke</td>\n",
       "      <td>Female</td>\n",
       "      <td>robin78@example.com</td>\n",
       "      <td>740.434.0212</td>\n",
       "      <td>21-09-1935</td>\n",
       "      <td>Producer, radio</td>\n",
       "      <td>50000</td>\n",
       "    </tr>\n",
       "    <tr>\n",
       "      <th>457</th>\n",
       "      <td>458</td>\n",
       "      <td>dcE1B7DE83c1076</td>\n",
       "      <td>Traci</td>\n",
       "      <td>Duke</td>\n",
       "      <td>Female</td>\n",
       "      <td>perryhoffman@example.org</td>\n",
       "      <td>+1-903-596-0995x489</td>\n",
       "      <td>11-02-1997</td>\n",
       "      <td>Herbalist</td>\n",
       "      <td>50000</td>\n",
       "    </tr>\n",
       "    <tr>\n",
       "      <th>729</th>\n",
       "      <td>730</td>\n",
       "      <td>c9b482D7aa3e682</td>\n",
       "      <td>Lonnie</td>\n",
       "      <td>Duke</td>\n",
       "      <td>Female</td>\n",
       "      <td>kevinkramer@example.net</td>\n",
       "      <td>982.692.6257</td>\n",
       "      <td>12-05-2015</td>\n",
       "      <td>Nurse, adult</td>\n",
       "      <td>70000</td>\n",
       "    </tr>\n",
       "  </tbody>\n",
       "</table>\n",
       "</div>"
      ],
      "text/plain": [
       "     Index          User Id First Name Last Name  Gender  \\\n",
       "45      46  99A502C175C4EBd     Olivia      Duke  Female   \n",
       "210    211  DF17975CC0a0373    Katrina      Duke  Female   \n",
       "457    458  dcE1B7DE83c1076      Traci      Duke  Female   \n",
       "729    730  c9b482D7aa3e682     Lonnie      Duke  Female   \n",
       "\n",
       "                        Email                   Phone Date of birth  \\\n",
       "45        diana26@example.net  001-366-475-8607x04350    13-10-1934   \n",
       "210       robin78@example.com            740.434.0212    21-09-1935   \n",
       "457  perryhoffman@example.org     +1-903-596-0995x489    11-02-1997   \n",
       "729   kevinkramer@example.net            982.692.6257    12-05-2015   \n",
       "\n",
       "           Job Title  Salary  \n",
       "45           Dentist   60000  \n",
       "210  Producer, radio   50000  \n",
       "457        Herbalist   50000  \n",
       "729     Nurse, adult   70000  "
      ]
     },
     "execution_count": 102,
     "metadata": {},
     "output_type": "execute_result"
    }
   ],
   "source": [
    "df_filtered"
   ]
  },
  {
   "cell_type": "markdown",
   "id": "e136cba2-5c28-4b4b-8f29-0ac4eb502b96",
   "metadata": {},
   "source": [
    "Create a 7*. Dataframe in Pandas using a series generated from . random integers Petween w to )"
   ]
  },
  {
   "cell_type": "code",
   "execution_count": 106,
   "id": "692cd1fe-8f7d-4146-8080-0078c6a3b805",
   "metadata": {},
   "outputs": [],
   "source": [
    "arr=np.random.randint(1,6,35).reshape(7,5)"
   ]
  },
  {
   "cell_type": "code",
   "execution_count": 107,
   "id": "3f1c6dd4-5965-48ce-8481-799eb8efb73b",
   "metadata": {},
   "outputs": [],
   "source": [
    "df=pd.DataFrame(arr)"
   ]
  },
  {
   "cell_type": "code",
   "execution_count": 108,
   "id": "de8f49a9-fe82-4c3f-ae7c-c6d721b06b16",
   "metadata": {},
   "outputs": [
    {
     "data": {
      "text/html": [
       "<div>\n",
       "<style scoped>\n",
       "    .dataframe tbody tr th:only-of-type {\n",
       "        vertical-align: middle;\n",
       "    }\n",
       "\n",
       "    .dataframe tbody tr th {\n",
       "        vertical-align: top;\n",
       "    }\n",
       "\n",
       "    .dataframe thead th {\n",
       "        text-align: right;\n",
       "    }\n",
       "</style>\n",
       "<table border=\"1\" class=\"dataframe\">\n",
       "  <thead>\n",
       "    <tr style=\"text-align: right;\">\n",
       "      <th></th>\n",
       "      <th>0</th>\n",
       "      <th>1</th>\n",
       "      <th>2</th>\n",
       "      <th>3</th>\n",
       "      <th>4</th>\n",
       "    </tr>\n",
       "  </thead>\n",
       "  <tbody>\n",
       "    <tr>\n",
       "      <th>0</th>\n",
       "      <td>2</td>\n",
       "      <td>2</td>\n",
       "      <td>2</td>\n",
       "      <td>2</td>\n",
       "      <td>3</td>\n",
       "    </tr>\n",
       "    <tr>\n",
       "      <th>1</th>\n",
       "      <td>5</td>\n",
       "      <td>4</td>\n",
       "      <td>4</td>\n",
       "      <td>1</td>\n",
       "      <td>2</td>\n",
       "    </tr>\n",
       "    <tr>\n",
       "      <th>2</th>\n",
       "      <td>5</td>\n",
       "      <td>5</td>\n",
       "      <td>4</td>\n",
       "      <td>2</td>\n",
       "      <td>4</td>\n",
       "    </tr>\n",
       "    <tr>\n",
       "      <th>3</th>\n",
       "      <td>2</td>\n",
       "      <td>1</td>\n",
       "      <td>4</td>\n",
       "      <td>2</td>\n",
       "      <td>5</td>\n",
       "    </tr>\n",
       "    <tr>\n",
       "      <th>4</th>\n",
       "      <td>4</td>\n",
       "      <td>3</td>\n",
       "      <td>3</td>\n",
       "      <td>5</td>\n",
       "      <td>5</td>\n",
       "    </tr>\n",
       "    <tr>\n",
       "      <th>5</th>\n",
       "      <td>5</td>\n",
       "      <td>3</td>\n",
       "      <td>1</td>\n",
       "      <td>1</td>\n",
       "      <td>4</td>\n",
       "    </tr>\n",
       "    <tr>\n",
       "      <th>6</th>\n",
       "      <td>4</td>\n",
       "      <td>5</td>\n",
       "      <td>5</td>\n",
       "      <td>4</td>\n",
       "      <td>5</td>\n",
       "    </tr>\n",
       "  </tbody>\n",
       "</table>\n",
       "</div>"
      ],
      "text/plain": [
       "   0  1  2  3  4\n",
       "0  2  2  2  2  3\n",
       "1  5  4  4  1  2\n",
       "2  5  5  4  2  4\n",
       "3  2  1  4  2  5\n",
       "4  4  3  3  5  5\n",
       "5  5  3  1  1  4\n",
       "6  4  5  5  4  5"
      ]
     },
     "execution_count": 108,
     "metadata": {},
     "output_type": "execute_result"
    }
   ],
   "source": [
    "df"
   ]
  },
  {
   "cell_type": "markdown",
   "id": "96553590-dd8c-4ea8-8543-08c269669cd1",
   "metadata": {},
   "source": [
    "KKg Create two different Series, each of length 50, with the following criteria:\n",
    "\n",
    "a) The first Series should contain random numbers ranging from 10 to 50.\n",
    "\n",
    "b) The second Series should contain random numbers ranging from 100 to 1000.\n",
    "\n",
    "c) Create a DataFrame by 'oining these Series by column, and, change the names of the columns to 'col1', 'col2', \n",
    "etc"
   ]
  },
  {
   "cell_type": "code",
   "execution_count": 141,
   "id": "98cbcc48-49e4-4c6f-a320-f0a87573de34",
   "metadata": {},
   "outputs": [],
   "source": [
    "z=pd.Series(np.random.randint(10,50,50))"
   ]
  },
  {
   "cell_type": "code",
   "execution_count": 142,
   "id": "4e3b0031-b77f-4ef6-afdc-3d4e46df50cf",
   "metadata": {},
   "outputs": [],
   "source": [
    " z1=pd.Series(np.random.randint(100,1000,50))"
   ]
  },
  {
   "cell_type": "code",
   "execution_count": 143,
   "id": "b0aabfff-3348-4acc-8331-cdae02c7b565",
   "metadata": {},
   "outputs": [],
   "source": [
    "df=pd.DataFrame(z,columns=['col1'])"
   ]
  },
  {
   "cell_type": "code",
   "execution_count": 144,
   "id": "4c72f2e7-991f-4b61-ace6-a6b9d27e5572",
   "metadata": {},
   "outputs": [],
   "source": [
    "df1=pd.DataFrame(z1,columns=['col2'])"
   ]
  },
  {
   "cell_type": "code",
   "execution_count": 145,
   "id": "6685221d-a821-4d78-8d49-f1d6a72134dc",
   "metadata": {},
   "outputs": [],
   "source": [
    "df3=pd.concat([z,z1],axis=1)"
   ]
  },
  {
   "cell_type": "code",
   "execution_count": 147,
   "id": "db0d1868-cda9-416d-88b2-8a26a37c6f06",
   "metadata": {},
   "outputs": [],
   "source": [
    "df3.columns=['col1','col2']"
   ]
  },
  {
   "cell_type": "code",
   "execution_count": 148,
   "id": "c20f57f7-5563-4c9a-a652-7e25200bb7c6",
   "metadata": {},
   "outputs": [
    {
     "data": {
      "text/html": [
       "<div>\n",
       "<style scoped>\n",
       "    .dataframe tbody tr th:only-of-type {\n",
       "        vertical-align: middle;\n",
       "    }\n",
       "\n",
       "    .dataframe tbody tr th {\n",
       "        vertical-align: top;\n",
       "    }\n",
       "\n",
       "    .dataframe thead th {\n",
       "        text-align: right;\n",
       "    }\n",
       "</style>\n",
       "<table border=\"1\" class=\"dataframe\">\n",
       "  <thead>\n",
       "    <tr style=\"text-align: right;\">\n",
       "      <th></th>\n",
       "      <th>col1</th>\n",
       "      <th>col2</th>\n",
       "    </tr>\n",
       "  </thead>\n",
       "  <tbody>\n",
       "    <tr>\n",
       "      <th>0</th>\n",
       "      <td>24</td>\n",
       "      <td>498</td>\n",
       "    </tr>\n",
       "    <tr>\n",
       "      <th>1</th>\n",
       "      <td>21</td>\n",
       "      <td>497</td>\n",
       "    </tr>\n",
       "    <tr>\n",
       "      <th>2</th>\n",
       "      <td>17</td>\n",
       "      <td>657</td>\n",
       "    </tr>\n",
       "    <tr>\n",
       "      <th>3</th>\n",
       "      <td>28</td>\n",
       "      <td>864</td>\n",
       "    </tr>\n",
       "    <tr>\n",
       "      <th>4</th>\n",
       "      <td>13</td>\n",
       "      <td>943</td>\n",
       "    </tr>\n",
       "    <tr>\n",
       "      <th>5</th>\n",
       "      <td>31</td>\n",
       "      <td>942</td>\n",
       "    </tr>\n",
       "    <tr>\n",
       "      <th>6</th>\n",
       "      <td>48</td>\n",
       "      <td>875</td>\n",
       "    </tr>\n",
       "    <tr>\n",
       "      <th>7</th>\n",
       "      <td>22</td>\n",
       "      <td>629</td>\n",
       "    </tr>\n",
       "    <tr>\n",
       "      <th>8</th>\n",
       "      <td>44</td>\n",
       "      <td>675</td>\n",
       "    </tr>\n",
       "    <tr>\n",
       "      <th>9</th>\n",
       "      <td>36</td>\n",
       "      <td>570</td>\n",
       "    </tr>\n",
       "    <tr>\n",
       "      <th>10</th>\n",
       "      <td>44</td>\n",
       "      <td>491</td>\n",
       "    </tr>\n",
       "    <tr>\n",
       "      <th>11</th>\n",
       "      <td>25</td>\n",
       "      <td>249</td>\n",
       "    </tr>\n",
       "    <tr>\n",
       "      <th>12</th>\n",
       "      <td>39</td>\n",
       "      <td>698</td>\n",
       "    </tr>\n",
       "    <tr>\n",
       "      <th>13</th>\n",
       "      <td>12</td>\n",
       "      <td>931</td>\n",
       "    </tr>\n",
       "    <tr>\n",
       "      <th>14</th>\n",
       "      <td>40</td>\n",
       "      <td>229</td>\n",
       "    </tr>\n",
       "    <tr>\n",
       "      <th>15</th>\n",
       "      <td>42</td>\n",
       "      <td>400</td>\n",
       "    </tr>\n",
       "    <tr>\n",
       "      <th>16</th>\n",
       "      <td>24</td>\n",
       "      <td>814</td>\n",
       "    </tr>\n",
       "    <tr>\n",
       "      <th>17</th>\n",
       "      <td>28</td>\n",
       "      <td>584</td>\n",
       "    </tr>\n",
       "    <tr>\n",
       "      <th>18</th>\n",
       "      <td>29</td>\n",
       "      <td>216</td>\n",
       "    </tr>\n",
       "    <tr>\n",
       "      <th>19</th>\n",
       "      <td>30</td>\n",
       "      <td>327</td>\n",
       "    </tr>\n",
       "    <tr>\n",
       "      <th>20</th>\n",
       "      <td>15</td>\n",
       "      <td>491</td>\n",
       "    </tr>\n",
       "    <tr>\n",
       "      <th>21</th>\n",
       "      <td>12</td>\n",
       "      <td>126</td>\n",
       "    </tr>\n",
       "    <tr>\n",
       "      <th>22</th>\n",
       "      <td>45</td>\n",
       "      <td>895</td>\n",
       "    </tr>\n",
       "    <tr>\n",
       "      <th>23</th>\n",
       "      <td>15</td>\n",
       "      <td>198</td>\n",
       "    </tr>\n",
       "    <tr>\n",
       "      <th>24</th>\n",
       "      <td>42</td>\n",
       "      <td>735</td>\n",
       "    </tr>\n",
       "    <tr>\n",
       "      <th>25</th>\n",
       "      <td>14</td>\n",
       "      <td>231</td>\n",
       "    </tr>\n",
       "    <tr>\n",
       "      <th>26</th>\n",
       "      <td>25</td>\n",
       "      <td>986</td>\n",
       "    </tr>\n",
       "    <tr>\n",
       "      <th>27</th>\n",
       "      <td>49</td>\n",
       "      <td>778</td>\n",
       "    </tr>\n",
       "    <tr>\n",
       "      <th>28</th>\n",
       "      <td>48</td>\n",
       "      <td>405</td>\n",
       "    </tr>\n",
       "    <tr>\n",
       "      <th>29</th>\n",
       "      <td>35</td>\n",
       "      <td>753</td>\n",
       "    </tr>\n",
       "    <tr>\n",
       "      <th>30</th>\n",
       "      <td>49</td>\n",
       "      <td>532</td>\n",
       "    </tr>\n",
       "    <tr>\n",
       "      <th>31</th>\n",
       "      <td>12</td>\n",
       "      <td>197</td>\n",
       "    </tr>\n",
       "    <tr>\n",
       "      <th>32</th>\n",
       "      <td>13</td>\n",
       "      <td>996</td>\n",
       "    </tr>\n",
       "    <tr>\n",
       "      <th>33</th>\n",
       "      <td>38</td>\n",
       "      <td>315</td>\n",
       "    </tr>\n",
       "    <tr>\n",
       "      <th>34</th>\n",
       "      <td>38</td>\n",
       "      <td>353</td>\n",
       "    </tr>\n",
       "    <tr>\n",
       "      <th>35</th>\n",
       "      <td>15</td>\n",
       "      <td>920</td>\n",
       "    </tr>\n",
       "    <tr>\n",
       "      <th>36</th>\n",
       "      <td>19</td>\n",
       "      <td>274</td>\n",
       "    </tr>\n",
       "    <tr>\n",
       "      <th>37</th>\n",
       "      <td>14</td>\n",
       "      <td>991</td>\n",
       "    </tr>\n",
       "    <tr>\n",
       "      <th>38</th>\n",
       "      <td>13</td>\n",
       "      <td>916</td>\n",
       "    </tr>\n",
       "    <tr>\n",
       "      <th>39</th>\n",
       "      <td>30</td>\n",
       "      <td>897</td>\n",
       "    </tr>\n",
       "    <tr>\n",
       "      <th>40</th>\n",
       "      <td>35</td>\n",
       "      <td>744</td>\n",
       "    </tr>\n",
       "    <tr>\n",
       "      <th>41</th>\n",
       "      <td>46</td>\n",
       "      <td>238</td>\n",
       "    </tr>\n",
       "    <tr>\n",
       "      <th>42</th>\n",
       "      <td>33</td>\n",
       "      <td>931</td>\n",
       "    </tr>\n",
       "    <tr>\n",
       "      <th>43</th>\n",
       "      <td>28</td>\n",
       "      <td>269</td>\n",
       "    </tr>\n",
       "    <tr>\n",
       "      <th>44</th>\n",
       "      <td>18</td>\n",
       "      <td>954</td>\n",
       "    </tr>\n",
       "    <tr>\n",
       "      <th>45</th>\n",
       "      <td>41</td>\n",
       "      <td>456</td>\n",
       "    </tr>\n",
       "    <tr>\n",
       "      <th>46</th>\n",
       "      <td>47</td>\n",
       "      <td>946</td>\n",
       "    </tr>\n",
       "    <tr>\n",
       "      <th>47</th>\n",
       "      <td>37</td>\n",
       "      <td>396</td>\n",
       "    </tr>\n",
       "    <tr>\n",
       "      <th>48</th>\n",
       "      <td>29</td>\n",
       "      <td>533</td>\n",
       "    </tr>\n",
       "    <tr>\n",
       "      <th>49</th>\n",
       "      <td>46</td>\n",
       "      <td>151</td>\n",
       "    </tr>\n",
       "  </tbody>\n",
       "</table>\n",
       "</div>"
      ],
      "text/plain": [
       "    col1  col2\n",
       "0     24   498\n",
       "1     21   497\n",
       "2     17   657\n",
       "3     28   864\n",
       "4     13   943\n",
       "5     31   942\n",
       "6     48   875\n",
       "7     22   629\n",
       "8     44   675\n",
       "9     36   570\n",
       "10    44   491\n",
       "11    25   249\n",
       "12    39   698\n",
       "13    12   931\n",
       "14    40   229\n",
       "15    42   400\n",
       "16    24   814\n",
       "17    28   584\n",
       "18    29   216\n",
       "19    30   327\n",
       "20    15   491\n",
       "21    12   126\n",
       "22    45   895\n",
       "23    15   198\n",
       "24    42   735\n",
       "25    14   231\n",
       "26    25   986\n",
       "27    49   778\n",
       "28    48   405\n",
       "29    35   753\n",
       "30    49   532\n",
       "31    12   197\n",
       "32    13   996\n",
       "33    38   315\n",
       "34    38   353\n",
       "35    15   920\n",
       "36    19   274\n",
       "37    14   991\n",
       "38    13   916\n",
       "39    30   897\n",
       "40    35   744\n",
       "41    46   238\n",
       "42    33   931\n",
       "43    28   269\n",
       "44    18   954\n",
       "45    41   456\n",
       "46    47   946\n",
       "47    37   396\n",
       "48    29   533\n",
       "49    46   151"
      ]
     },
     "execution_count": 148,
     "metadata": {},
     "output_type": "execute_result"
    }
   ],
   "source": [
    "df3"
   ]
  },
  {
   "cell_type": "markdown",
   "id": "f1a7e33e-5a24-448a-b344-c3a9071a8a54",
   "metadata": {},
   "source": [
    "K%g Perform the following operations using people data set:\n",
    "\n",
    "a) Delete the 'Email', 'Phone', and 'Date of birth' columns from the dataset.\n",
    "\n",
    "b) Delete the rows containing any missing values.\n",
    "\n",
    "d) Print the final out\u0018ut also&"
   ]
  },
  {
   "cell_type": "code",
   "execution_count": 171,
   "id": "74e316e6-33c7-40b2-99be-7530ac81ca7a",
   "metadata": {},
   "outputs": [],
   "source": [
    "df=pd.read_csv('People Data.csv')"
   ]
  },
  {
   "cell_type": "code",
   "execution_count": 172,
   "id": "48189601-86b1-43da-ab05-e9bba22b1182",
   "metadata": {},
   "outputs": [
    {
     "data": {
      "text/html": [
       "<div>\n",
       "<style scoped>\n",
       "    .dataframe tbody tr th:only-of-type {\n",
       "        vertical-align: middle;\n",
       "    }\n",
       "\n",
       "    .dataframe tbody tr th {\n",
       "        vertical-align: top;\n",
       "    }\n",
       "\n",
       "    .dataframe thead th {\n",
       "        text-align: right;\n",
       "    }\n",
       "</style>\n",
       "<table border=\"1\" class=\"dataframe\">\n",
       "  <thead>\n",
       "    <tr style=\"text-align: right;\">\n",
       "      <th></th>\n",
       "      <th>Index</th>\n",
       "      <th>User Id</th>\n",
       "      <th>First Name</th>\n",
       "      <th>Last Name</th>\n",
       "      <th>Gender</th>\n",
       "      <th>Email</th>\n",
       "      <th>Phone</th>\n",
       "      <th>Date of birth</th>\n",
       "      <th>Job Title</th>\n",
       "      <th>Salary</th>\n",
       "    </tr>\n",
       "  </thead>\n",
       "  <tbody>\n",
       "    <tr>\n",
       "      <th>0</th>\n",
       "      <td>1</td>\n",
       "      <td>8717bbf45cCDbEe</td>\n",
       "      <td>Shelia</td>\n",
       "      <td>Mahoney</td>\n",
       "      <td>Male</td>\n",
       "      <td>pwarner@example.org</td>\n",
       "      <td>857.139.8239</td>\n",
       "      <td>27-01-2014</td>\n",
       "      <td>Probation officer</td>\n",
       "      <td>90000</td>\n",
       "    </tr>\n",
       "    <tr>\n",
       "      <th>1</th>\n",
       "      <td>2</td>\n",
       "      <td>3d5AD30A4cD38ed</td>\n",
       "      <td>Jo</td>\n",
       "      <td>Rivers</td>\n",
       "      <td>Female</td>\n",
       "      <td>fergusonkatherine@example.net</td>\n",
       "      <td>NaN</td>\n",
       "      <td>26-07-1931</td>\n",
       "      <td>Dancer</td>\n",
       "      <td>80000</td>\n",
       "    </tr>\n",
       "    <tr>\n",
       "      <th>2</th>\n",
       "      <td>3</td>\n",
       "      <td>810Ce0F276Badec</td>\n",
       "      <td>Sheryl</td>\n",
       "      <td>Lowery</td>\n",
       "      <td>Female</td>\n",
       "      <td>fhoward@example.org</td>\n",
       "      <td>(599)782-0605</td>\n",
       "      <td>25-11-2013</td>\n",
       "      <td>Copy</td>\n",
       "      <td>50000</td>\n",
       "    </tr>\n",
       "    <tr>\n",
       "      <th>3</th>\n",
       "      <td>4</td>\n",
       "      <td>BF2a889C00f0cE1</td>\n",
       "      <td>Whitney</td>\n",
       "      <td>Hooper</td>\n",
       "      <td>Male</td>\n",
       "      <td>zjohnston@example.com</td>\n",
       "      <td>NaN</td>\n",
       "      <td>17-11-2012</td>\n",
       "      <td>Counselling psychologist</td>\n",
       "      <td>65000</td>\n",
       "    </tr>\n",
       "    <tr>\n",
       "      <th>4</th>\n",
       "      <td>5</td>\n",
       "      <td>9afFEafAe1CBBB9</td>\n",
       "      <td>Lindsey</td>\n",
       "      <td>Rice</td>\n",
       "      <td>Female</td>\n",
       "      <td>elin@example.net</td>\n",
       "      <td>(390)417-1635x3010</td>\n",
       "      <td>15-04-1923</td>\n",
       "      <td>Biomedical engineer</td>\n",
       "      <td>100000</td>\n",
       "    </tr>\n",
       "  </tbody>\n",
       "</table>\n",
       "</div>"
      ],
      "text/plain": [
       "   Index          User Id First Name Last Name  Gender  \\\n",
       "0      1  8717bbf45cCDbEe     Shelia   Mahoney    Male   \n",
       "1      2  3d5AD30A4cD38ed         Jo    Rivers  Female   \n",
       "2      3  810Ce0F276Badec     Sheryl    Lowery  Female   \n",
       "3      4  BF2a889C00f0cE1    Whitney    Hooper    Male   \n",
       "4      5  9afFEafAe1CBBB9    Lindsey      Rice  Female   \n",
       "\n",
       "                           Email               Phone Date of birth  \\\n",
       "0            pwarner@example.org        857.139.8239    27-01-2014   \n",
       "1  fergusonkatherine@example.net                 NaN    26-07-1931   \n",
       "2            fhoward@example.org       (599)782-0605    25-11-2013   \n",
       "3          zjohnston@example.com                 NaN    17-11-2012   \n",
       "4               elin@example.net  (390)417-1635x3010    15-04-1923   \n",
       "\n",
       "                  Job Title  Salary  \n",
       "0         Probation officer   90000  \n",
       "1                    Dancer   80000  \n",
       "2                      Copy   50000  \n",
       "3  Counselling psychologist   65000  \n",
       "4       Biomedical engineer  100000  "
      ]
     },
     "execution_count": 172,
     "metadata": {},
     "output_type": "execute_result"
    }
   ],
   "source": [
    "df.head()"
   ]
  },
  {
   "cell_type": "code",
   "execution_count": 167,
   "id": "635cd8ec-c731-4fb5-99e6-b1da3d96d686",
   "metadata": {},
   "outputs": [],
   "source": [
    "df.drop(['Email','Phone','Date of birth'],axis=1,inplace=True)"
   ]
  },
  {
   "cell_type": "code",
   "execution_count": 168,
   "id": "97194f7d-77ec-4250-a16e-e2abad16249d",
   "metadata": {},
   "outputs": [],
   "source": [
    "df.dropna(axis=0,inplace=True,ignore_index=True)"
   ]
  },
  {
   "cell_type": "markdown",
   "id": "54af271b-11f9-4571-8611-f89d58e6ecd5",
   "metadata": {},
   "source": [
    "K\u0017g Create two NumPy arrays, x and y, each containing 100 random float values between 0 and 1. Perform the \n",
    "following tasks using Matplotlib and NumPy:\n",
    "\n",
    "a) Create a scatter \u0018lot using x and y, setting the color of the \u0018oints to red and the marker style to 'o'.\n",
    "\n",
    "b) Add a horizontal line at y = 0.5 using a dashed line style and label it as 'y = 0.5'.\n",
    "\n",
    "c) Add a vertical line at x = 0.5 using a dotted line style and label it as 'x = 0.5'.\n",
    "\n",
    "d) Label the x-axis as 'X-axis' and the y-axis as 'Y-axis'.\n",
    "\n",
    "e) Set the title of the \u0018lot as 'Advanced Scatter Plot of Random Values'.\n",
    "\n",
    "f) Dis\u0018lay a legend for the scatter \u0018lot, the horizontal line, and the vertical line"
   ]
  },
  {
   "cell_type": "code",
   "execution_count": 192,
   "id": "471f18fc-857b-40a1-910d-6da666eddb2f",
   "metadata": {},
   "outputs": [],
   "source": [
    "x=np.random.rand(100)"
   ]
  },
  {
   "cell_type": "code",
   "execution_count": 193,
   "id": "68045e43-f968-4e05-a7fd-31e5a21039d4",
   "metadata": {},
   "outputs": [
    {
     "data": {
      "text/plain": [
       "array([0.01165321, 0.128842  , 0.77323639, 0.40021305, 0.10492984,\n",
       "       0.79769412, 0.35590862, 0.54013765, 0.80269555, 0.23399451,\n",
       "       0.53896716, 0.47021893, 0.68638484, 0.72440774, 0.43281789,\n",
       "       0.60339044, 0.62154897, 0.41211479, 0.75305044, 0.29660139,\n",
       "       0.59879061, 0.42183263, 0.51616441, 0.52672198, 0.2295651 ,\n",
       "       0.87869927, 0.3179108 , 0.69300749, 0.86059547, 0.65697332,\n",
       "       0.91125758, 0.82501775, 0.72793619, 0.67431203, 0.46837816,\n",
       "       0.28337632, 0.72311827, 0.79753542, 0.82789022, 0.8094534 ,\n",
       "       0.99764306, 0.5492966 , 0.04053425, 0.63674635, 0.45563272,\n",
       "       0.91724247, 0.43868621, 0.73445374, 0.63381336, 0.1435256 ,\n",
       "       0.51497932, 0.64590801, 0.250381  , 0.63898108, 0.19573154,\n",
       "       0.45912812, 0.82762471, 0.29191336, 0.27493325, 0.30098948,\n",
       "       0.53698906, 0.77854627, 0.64306212, 0.06659542, 0.67801388,\n",
       "       0.42732689, 0.54841863, 0.60018349, 0.58631268, 0.51208484,\n",
       "       0.31874207, 0.40418238, 0.86901463, 0.11638175, 0.31331087,\n",
       "       0.38656447, 0.40982639, 0.62315723, 0.83265688, 0.34530574,\n",
       "       0.09601612, 0.94132964, 0.09898586, 0.40883363, 0.56182351,\n",
       "       0.72917481, 0.17219993, 0.60284409, 0.81475325, 0.1315252 ,\n",
       "       0.57327833, 0.68667981, 0.96396384, 0.95041836, 0.57842617,\n",
       "       0.53045011, 0.24242088, 0.33465379, 0.16905467, 0.78537619])"
      ]
     },
     "execution_count": 193,
     "metadata": {},
     "output_type": "execute_result"
    }
   ],
   "source": [
    "x"
   ]
  },
  {
   "cell_type": "code",
   "execution_count": 194,
   "id": "5c70153b-cac4-4705-be83-2f41930838c4",
   "metadata": {},
   "outputs": [],
   "source": [
    "y=np.random.rand(100)"
   ]
  },
  {
   "cell_type": "code",
   "execution_count": 176,
   "id": "33ac639c-14aa-435d-912b-03eacdae6d68",
   "metadata": {},
   "outputs": [],
   "source": [
    "import matplotlib.pyplot as plt"
   ]
  },
  {
   "cell_type": "code",
   "execution_count": 200,
   "id": "7bdf538d-3fc0-4e26-a48f-c617b045c51e",
   "metadata": {},
   "outputs": [
    {
     "data": {
      "image/png": "[encoded data removed]",
      "text/plain": [
       "<Figure size 640x480 with 1 Axes>"
      ]
     },
     "metadata": {},
     "output_type": "display_data"
    }
   ],
   "source": [
    "ax=plt.scatter(x,y,marker='o',color='red')"
   ]
  },
  {
   "cell_type": "code",
   "execution_count": 3,
   "id": "68cff88a-19fc-4a7c-b760-03e2efddc059",
   "metadata": {},
   "outputs": [
    {
     "data": {
      "image/png": "[encoded data removed]",
      "text/plain": [
       "<Figure size 640x480 with 1 Axes>"
      ]
     },
     "metadata": {},
     "output_type": "display_data"
    }
   ],
   "source": [
    "import numpy as np\n",
    "import matplotlib.pyplot as plt\n",
    "import pandas as pd\n",
    "\n",
    "# Create random arrays x and y\n",
    "x = np.random.rand(100)\n",
    "y = np.random.rand(100)\n",
    "\n",
    "# Create a scatter plot\n",
    "plt.scatter(x, y, color='red', marker='o')\n",
    "\n",
    "# Add horizontal and vertical lines\n",
    "plt.axhline(y=0.5, color='black', linestyle='--', label='y = 0.5')\n",
    "plt.axvline(x=0.5, color='black', linestyle=':', label='x = 0.5')\n",
    "\n",
    "# Label axes and set title\n",
    "plt.xlabel('X-axis')\n",
    "plt.ylabel('Y-axis')\n",
    "plt.title('Advanced Scatter Plot of Random Values')\n",
    "\n",
    "# Display legend\n",
    "plt.legend()\n",
    "\n",
    "# Show the plot\n",
    "plt.show()\n",
    "\n",
    "# Create time-series dataset\n",
    "dates = pd.date_range(start='2023-01-01', end='2023-12-31')\n",
    "temperature = np.random.randint(10, 35, size=len(dates))\n",
    "df = pd.DataFrame({'Date': dates, 'Temperature': temperature})"
   ]
  },
  {
   "cell_type": "code",
   "execution_count": 4,
   "id": "bdbcf888-dfaa-48e3-99bb-d48f7ad835f2",
   "metadata": {},
   "outputs": [],
   "source": [
    "#pip install matplotlib"
   ]
  },
  {
   "cell_type": "code",
   "execution_count": 5,
   "id": "d152e5e4-fcdf-4253-9021-866c97eb954b",
   "metadata": {},
   "outputs": [
    {
     "data": {
      "image/png": "[encoded data removed]",
      "text/plain": [
       "<Figure size 640x480 with 2 Axes>"
      ]
     },
     "metadata": {},
     "output_type": "display_data"
    }
   ],
   "source": [
    "import numpy as np\n",
    "import pandas as pd\n",
    "import matplotlib.pyplot as plt\n",
    "\n",
    "# Create time-series dataset\n",
    "dates = pd.date_range(start='2023-01-01', end='2023-12-31')\n",
    "temperature = np.random.randint(10, 35, size=len(dates))\n",
    "humidity = np.random.randint(50, 90, size=len(dates))\n",
    "df = pd.DataFrame({'Date': dates, 'Temperature': temperature, 'Humidity': humidity})\n",
    "\n",
    "# Create a twin plot\n",
    "fig, ax1 = plt.subplots()\n",
    "ax2 = ax1.twinx()\n",
    "\n",
    "# Plot 'Temperature' on the left y-axis\n",
    "ax1.plot(df['Date'], df['Temperature'], color='blue', label='Temperature')\n",
    "ax1.set_ylabel('Temperature (°C)', color='blue')\n",
    "\n",
    "# Plot 'Humidity' on the right y-axis\n",
    "ax2.plot(df['Date'], df['Humidity'], color='red', label='Humidity')\n",
    "ax2.set_ylabel('Humidity (%)', color='red')\n",
    "\n",
    "# Label x-axis and set title\n",
    "plt.xlabel('Date')\n",
    "plt.title('Temperature and Humidity Over Time')\n",
    "\n",
    "# Display legend\n",
    "plt.legend()\n",
    "\n",
    "# Show the plot\n",
    "plt.tight_layout()\n",
    "plt.show()"
   ]
  },
  {
   "cell_type": "code",
   "execution_count": null,
   "id": "5ab2eff7-5794-48dd-998d-2e5d01aca4f0",
   "metadata": {},
   "outputs": [],
   "source": []
  },
  {
   "cell_type": "markdown",
   "id": "f93791b3",
   "metadata": {},
   "source": [
    "K§g Create a NumPy array data containing 1000 samples from a normal distribution. Perform the following \n",
    "tasks using Matplotlib"
   ]
  },
  {
   "cell_type": "code",
   "execution_count": 6,
   "id": "c5806b36-7613-41f8-bc23-cfee0e5c5059",
   "metadata": {},
   "outputs": [
    {
     "data": {
      "image/png": "[encoded data removed]",
      "text/plain": [
       "<Figure size 640x480 with 1 Axes>"
      ]
     },
     "metadata": {},
     "output_type": "display_data"
    }
   ],
   "source": [
    "import numpy as np\n",
    "import matplotlib.pyplot as plt\n",
    "\n",
    "# Create NumPy array data\n",
    "data = np.random.normal(loc=0, scale=1, size=1000)\n",
    "\n",
    "# Plot a histogram\n",
    "plt.hist(data, bins=30, density=True, alpha=0.6, label='Histogram')\n",
    "\n",
    "# Create a probability density function (PDF)\n",
    "x = np.linspace(min(data), max(data), 1000)\n",
    "pdf = 1 / (np.sqrt(2 * np.pi) * np.std(data)) * np.exp(-(x - np.mean(data))**2 / (2 * np.std(data)**2))\n",
    "plt.plot(x, pdf, color='red', label='PDF')\n",
    "\n",
    "# Label axes and set title\n",
    "plt.xlabel('Value')\n",
    "plt.ylabel('Frequency/Probability')\n",
    "plt.title('Histogram with PDF Overlay')\n",
    "\n",
    "# Display legend\n",
    "plt.legend()\n",
    "\n",
    "# Show the plot\n",
    "plt.show()"
   ]
  },
  {
   "cell_type": "markdown",
   "id": "5c76f9d0",
   "metadata": {},
   "source": [
    "KÃg Set the title of the plot as 'Histogram with PDF Overlay'"
   ]
  },
  {
   "cell_type": "markdown",
   "id": "fc0202c9",
   "metadata": {},
   "source": []
  },
  {
   "cell_type": "markdown",
   "id": "72fbc171",
   "metadata": {},
   "source": [
    "Kçg Create a Seaborn scatter plot of two random arrays, color points based on their position relative to the \n",
    "origin (quadrants), add a legend, label the axes, and set the title as 'Quadrant-wise Scatter Plot'."
   ]
  },
  {
   "cell_type": "code",
   "execution_count": 11,
   "id": "c5ac45ee",
   "metadata": {},
   "outputs": [
    {
     "name": "stderr",
     "output_type": "stream",
     "text": [
      "C:\\Users\\madhu\\AppData\\Local\\Temp\\ipykernel_14860\\2982633462.py:10: UserWarning: \n",
      "The palette list has fewer values (2) than needed (1000) and will cycle, which may produce an uninterpretable plot.\n",
      "  sns.scatterplot(x=x, y=y, hue=np.sin(x * y), palette=['red', 'blue'],  markers=['o', 'x'])\n"
     ]
    },
    {
     "data": {
      "image/png": "[encoded data removed]",
      "text/plain": [
       "<Figure size 640x480 with 1 Axes>"
      ]
     },
     "metadata": {},
     "output_type": "display_data"
    }
   ],
   "source": [
    "import numpy as np\n",
    "import seaborn as sns\n",
    "import matplotlib.pyplot as plt\n",
    "\n",
    "# Create random arrays\n",
    "x = np.random.randn(1000)\n",
    "y = np.random.randn(1000)\n",
    "\n",
    "# Create a scatter plot\n",
    "sns.scatterplot(x=x, y=y, hue=np.sin(x * y), palette=['red', 'blue'],  markers=['o', 'x'])\n",
    "\n",
    "# Add legend\n",
    "plt.legend(title='Quadrant', labels=['Quadrant I and III', 'Quadrant II and IV'])\n",
    "\n",
    "# Label axes and set title\n",
    "plt.xlabel('X')\n",
    "plt.ylabel('Y')\n",
    "plt.title('Quadrant-wise Scatter Plot')\n",
    "\n",
    "# Show the plot\n",
    "plt.show()"
   ]
  },
  {
   "cell_type": "code",
   "execution_count": 12,
   "id": "06fba000",
   "metadata": {},
   "outputs": [],
   "source": [
    "# pip install seaborn"
   ]
  },
  {
   "cell_type": "code",
   "execution_count": null,
   "id": "491756be",
   "metadata": {},
   "outputs": [],
   "source": []
  },
  {
   "cell_type": "markdown",
   "id": "59116b74",
   "metadata": {},
   "source": [
    "*58 With Bo+eh, plot a line chart of a sine wave function, add \u0015rid lines, label the axes, and set the title as 'Sine \n",
    "Wave Function'"
   ]
  },
  {
   "cell_type": "code",
   "execution_count": 18,
   "id": "16ae4522",
   "metadata": {},
   "outputs": [],
   "source": [
    "import numpy as np\n",
    "from bokeh.plotting import figure, output_file, show\n",
    "\n",
    "# Create data for the sine wave function\n",
    "x = np.linspace(0, 2 * np.pi, 1000)\n",
    "y = np.sin(x)\n",
    "\n",
    "# Create a Bokeh figure\n",
    "p = figure(title=\"Sine Wave Function\", x_axis_label='x', y_axis_label='y')\n",
    "\n",
    "# Add a line plot\n",
    "p.line(x, y, line_width=2)\n",
    "\n",
    "# Add grid lines and set their color\n",
    "p.grid.grid_line_color = \"gray\"\n",
    "\n",
    "# Show the plot\n",
    "output_file(\"sine_wave.html\")\n",
    "show(p)"
   ]
  },
  {
   "cell_type": "code",
   "execution_count": 15,
   "id": "39a1aa9f",
   "metadata": {},
   "outputs": [],
   "source": [
    "# pip install bokeh"
   ]
  },
  {
   "cell_type": "markdown",
   "id": "a369d848",
   "metadata": {},
   "source": [
    "*\u00148 Usin\u0015 Bo+eh, \u0015enerate a bar chart of randomly \u0015enerated cate\u0015orical data, color bars based on their \n",
    "values, add hover tooltips to display exact values, label the axes, and set the title as 'Random Cate\u0015orical \n",
    "Bar Chart"
   ]
  },
  {
   "cell_type": "code",
   "execution_count": 30,
   "id": "ad935f9d",
   "metadata": {},
   "outputs": [],
   "source": [
    "from bokeh.plotting import figure, show\n",
    "from bokeh.io import output_file\n",
    "from bokeh.models import ColumnDataSource, HoverTool\n",
    "from bokeh.transform import factor_cmap\n",
    "from bokeh.palettes import Spectral6\n",
    "import random\n",
    "\n",
    "# Output to an HTML file\n",
    "output_file(\"random_categorical_bar_chart.html\")\n",
    "\n",
    "# Generate random categorical data\n",
    "categories = ['A', 'B', 'C', 'D', 'E', 'F']\n",
    "values = [random.randint(10, 100) for _ in categories]\n",
    "\n",
    "# Create a ColumnDataSource to store the data\n",
    "source = ColumnDataSource(data=dict(categories=categories, values=values))\n",
    "\n",
    "# Create a bar chart\n",
    "p = figure(x_range=categories, title=\"Random Categorical Bar Chart\", \n",
    "           toolbar_location=None, tools=\"\")\n",
    "\n",
    "# Add bars to the chart with color mapping based on values\n",
    "p.vbar(x='categories', top='values', width=0.9, source=source, \n",
    "       line_color='white', \n",
    "       fill_color=factor_cmap('categories', palette=Spectral6, factors=categories))\n",
    "\n",
    "# Add hover tool to display values on hover\n",
    "hover = HoverTool()\n",
    "hover.tooltips = [(\"Category\", \"@categories\"), (\"Value\", \"@values\")]\n",
    "p.add_tools(hover)\n",
    "\n",
    "# Label the axes\n",
    "p.xgrid.grid_line_color = None\n",
    "p.y_range.start = 0\n",
    "p.xaxis.axis_label = \"Categories\"\n",
    "p.yaxis.axis_label = \"Values\"\n",
    "\n",
    "# Display the chart\n",
    "show(p)\n"
   ]
  },
  {
   "cell_type": "markdown",
   "id": "4f242bed",
   "metadata": {},
   "source": [
    "\u0013\u00188 Usin\u0015 Plotly, create a basic line plot of a randomly \u0015enerated dataset, label the axes, and set the title as \n",
    "'Simple Line Plot'8"
   ]
  },
  {
   "cell_type": "code",
   "execution_count": 41,
   "id": "f629d396",
   "metadata": {},
   "outputs": [
    {
     "data": {
      "text/plain": [
       "'temp-plot.html'"
      ]
     },
     "execution_count": 41,
     "metadata": {},
     "output_type": "execute_result"
    }
   ],
   "source": [
    "import plotly.graph_objects as go\n",
    "from plotly.offline import plot\n",
    "import random\n",
    "\n",
    "# Generate random data\n",
    "x_values = list(range(1, 11))\n",
    "y_values = [random.randint(10, 100) for _ in x_values]\n",
    "\n",
    "# Create a line plot\n",
    "fig = go.Figure()\n",
    "\n",
    "# Add a line trace\n",
    "fig.add_trace(go.Scatter(x=x_values, y=y_values, mode='lines+markers', name='Random Line'))\n",
    "\n",
    "# Label the axes and set the title\n",
    "fig.update_layout(\n",
    "    title='Simple Line Plot',\n",
    "    xaxis_title='X Axis',\n",
    "    yaxis_title='Y Axis'\n",
    ")\n",
    "\n",
    "# Display the plot in offline mode\n",
    "plot(fig)\n"
   ]
  },
  {
   "cell_type": "code",
   "execution_count": 45,
   "id": "1e3fa591",
   "metadata": {},
   "outputs": [
    {
     "data": {
      "text/plain": [
       "'interactive_pie_chart.html'"
      ]
     },
     "execution_count": 45,
     "metadata": {},
     "output_type": "execute_result"
    }
   ],
   "source": [
    "import plotly.graph_objects as go\n",
    "from plotly.offline import plot\n",
    "import random\n",
    "\n",
    "# Generate random data\n",
    "labels = ['Category A', 'Category B', 'Category C', 'Category D']\n",
    "values = [random.randint(10, 100) for _ in labels]\n",
    "\n",
    "# Create the pie chart\n",
    "fig = go.Figure(data=[go.Pie(labels=labels, values=values, hole=0.3, \n",
    "                             textinfo='label+percent', insidetextorientation='radial')])\n",
    "\n",
    "# Set the title of the chart\n",
    "fig.update_layout(title_text='Interactive Pie Chart')\n",
    "\n",
    "# Use plotly.offline.plot to save and open the plot in the browser\n",
    "plot(fig, filename='interactive_pie_chart.html', auto_open=True)\n"
   ]
  },
  {
   "cell_type": "markdown",
   "id": "61751c29",
   "metadata": {},
   "source": []
  },
  {
   "cell_type": "code",
   "execution_count": null,
   "id": "dc1b7edd",
   "metadata": {},
   "outputs": [],
   "source": []
  }
 ],
 "metadata": {
  "kernelspec": {
   "display_name": "Python 3 (ipykernel)",
   "language": "python",
   "name": "python3"
  },
  "language_info": {
   "codemirror_mode": {
    "name": "ipython",
    "version": 3
   },
   "file_extension": ".py",
   "mimetype": "text/x-python",
   "name": "python",
   "nbconvert_exporter": "python",
   "pygments_lexer": "ipython3",
   "version": "3.12.3"
  }
 },
 "nbformat": 4,
 "nbformat_minor": 5
}
